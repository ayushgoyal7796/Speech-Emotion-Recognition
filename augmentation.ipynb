{
 "cells": [
  {
   "cell_type": "code",
   "execution_count": 0,
   "metadata": {
    "colab": {
     "autoexec": {
      "startup": false,
      "wait_interval": 0
     }
    },
    "colab_type": "code",
    "collapsed": true,
    "id": "PBmpzcGMmbOR"
   },
   "outputs": [],
   "source": [
    "import librosa\n",
    "import os"
   ]
  },
  {
   "cell_type": "code",
   "execution_count": 0,
   "metadata": {
    "colab": {
     "autoexec": {
      "startup": false,
      "wait_interval": 0
     }
    },
    "colab_type": "code",
    "collapsed": true,
    "id": "B9arePwQmbOW"
   },
   "outputs": [],
   "source": [
    "angry = []\n",
    "for root, dirs, files in os.walk(r'dataset/wav/original/angry/'):\n",
    "    for file in files:\n",
    "        if file.endswith('.wav'):\n",
    "            angry.append(file)\n",
    "calm = []\n",
    "for root, dirs, files in os.walk(r'dataset/wav/original/calm/'):\n",
    "    for file in files:\n",
    "        if file.endswith('.wav'):\n",
    "            calm.append(file)\n",
    "disgust = []\n",
    "for root, dirs, files in os.walk(r'dataset/wav/original/disgust/'):\n",
    "    for file in files:\n",
    "        if file.endswith('.wav'):\n",
    "            disgust.append(file)\n",
    "fearful = []\n",
    "for root, dirs, files in os.walk(r'dataset/wav/original/fearful/'):\n",
    "    for file in files:\n",
    "        if file.endswith('.wav'):\n",
    "            fearful.append(file)\n",
    "happy = []\n",
    "for root, dirs, files in os.walk(r'dataset/wav/original/happy/'):\n",
    "    for file in files:\n",
    "        if file.endswith('.wav'):\n",
    "            happy.append(file)\n",
    "neutral = []\n",
    "for root, dirs, files in os.walk(r'dataset/wav/original/neutral/'):\n",
    "    for file in files:\n",
    "        if file.endswith('.wav'):\n",
    "            neutral.append(file)\n",
    "sad = []\n",
    "for root, dirs, files in os.walk(r'dataset/wav/original/sad/'):\n",
    "    for file in files:\n",
    "        if file.endswith('.wav'):\n",
    "            sad.append(file)\n",
    "surprised = []\n",
    "for root, dirs, files in os.walk(r'dataset/wav/original/surprised/'):\n",
    "    for file in files:\n",
    "        if file.endswith('.wav'):\n",
    "            surprised.append(file)"
   ]
  },
  {
   "cell_type": "code",
   "execution_count": 0,
   "metadata": {
    "colab": {
     "autoexec": {
      "startup": false,
      "wait_interval": 0
     }
    },
    "colab_type": "code",
    "collapsed": true,
    "id": "IBnfOnrNmbOa"
   },
   "outputs": [],
   "source": [
    "n_steps = -1\n",
    "for i in angry:\n",
    "    y, sr = librosa.load('dataset/wav/original/angry/'+i, duration=2.97)\n",
    "    y_changed = librosa.effects.pitch_shift(y, sr, n_steps=n_steps)\n",
    "    librosa.output.write_wav('dataset/wav/augmented/pm_1sl/angry/pm_1sl_'+i ,y_changed, sr)\n",
    "for i in calm:\n",
    "    y, sr = librosa.load('dataset/wav/original/calm/'+i, duration=2.97)\n",
    "    y_changed = librosa.effects.pitch_shift(y, sr, n_steps=n_steps)\n",
    "    librosa.output.write_wav('dataset/wav/augmented/pm_1sl/calm/pm_1sl_'+i ,y_changed, sr)\n",
    "for i in disgust:\n",
    "    y, sr = librosa.load('dataset/wav/original/disgust/'+i, duration=2.97)\n",
    "    y_changed = librosa.effects.pitch_shift(y, sr, n_steps=n_steps)\n",
    "    librosa.output.write_wav('dataset/wav/augmented/pm_1sl/disgust/pm_1sl_'+i ,y_changed, sr)\n",
    "for i in fearful:\n",
    "    y, sr = librosa.load('dataset/wav/original/fearful/'+i, duration=2.97)\n",
    "    y_changed = librosa.effects.pitch_shift(y, sr, n_steps=n_steps)\n",
    "    librosa.output.write_wav('dataset/wav/augmented/pm_1sl/fearful/pm_1sl_'+i ,y_changed, sr)\n",
    "for i in happy:\n",
    "    y, sr = librosa.load('dataset/wav/original/happy/'+i, duration=2.97)\n",
    "    y_changed = librosa.effects.pitch_shift(y, sr, n_steps=n_steps)\n",
    "    librosa.output.write_wav('dataset/wav/augmented/pm_1sl/happy/pm_1sl_'+i ,y_changed, sr)\n",
    "for i in neutral:\n",
    "    y, sr = librosa.load('dataset/wav/original/neutral/'+i, duration=2.97)\n",
    "    y_changed = librosa.effects.pitch_shift(y, sr, n_steps=n_steps)\n",
    "    librosa.output.write_wav('dataset/wav/augmented/pm_1sl/neutral/pm_1sl_'+i ,y_changed, sr)\n",
    "for i in sad:\n",
    "    y, sr = librosa.load('dataset/wav/original/sad/'+i, duration=2.97)\n",
    "    y_changed = librosa.effects.pitch_shift(y, sr, n_steps=n_steps)\n",
    "    librosa.output.write_wav('dataset/wav/augmented/pm_1sl/sad/pm_1sl_'+i ,y_changed, sr)\n",
    "for i in surprised:\n",
    "    y, sr = librosa.load('dataset/wav/original/surprised/'+i, duration=2.97)\n",
    "    y_changed = librosa.effects.pitch_shift(y, sr, n_steps=n_steps)\n",
    "    librosa.output.write_wav('dataset/wav/augmented/pm_1sl/surprised/pm_1sl_'+i ,y_changed, sr)\n"
   ]
  },
  {
   "cell_type": "code",
   "execution_count": 0,
   "metadata": {
    "colab": {
     "autoexec": {
      "startup": false,
      "wait_interval": 0
     }
    },
    "colab_type": "code",
    "collapsed": true,
    "id": "ikqy-1s1mbOh"
   },
   "outputs": [],
   "source": [
    "n_steps = -2\n",
    "for i in angry:\n",
    "    y, sr = librosa.load('dataset/wav/original/angry/'+i, duration=2.97)\n",
    "    y_changed = librosa.effects.pitch_shift(y, sr, n_steps=n_steps)\n",
    "    librosa.output.write_wav('dataset/wav/augmented/pm_2sl/angry/pm_2sl_'+i ,y_changed, sr)\n",
    "for i in calm:\n",
    "    y, sr = librosa.load('dataset/wav/original/calm/'+i, duration=2.97)\n",
    "    y_changed = librosa.effects.pitch_shift(y, sr, n_steps=n_steps)\n",
    "    librosa.output.write_wav('dataset/wav/augmented/pm_2sl/calm/pm_2sl_'+i ,y_changed, sr)\n",
    "for i in disgust:\n",
    "    y, sr = librosa.load('dataset/wav/original/disgust/'+i, duration=2.97)\n",
    "    y_changed = librosa.effects.pitch_shift(y, sr, n_steps=n_steps)\n",
    "    librosa.output.write_wav('dataset/wav/augmented/pm_2sl/disgust/pm_2sl_'+i ,y_changed, sr)\n",
    "for i in fearful:\n",
    "    y, sr = librosa.load('dataset/wav/original/fearful/'+i, duration=2.97)\n",
    "    y_changed = librosa.effects.pitch_shift(y, sr, n_steps=n_steps)\n",
    "    librosa.output.write_wav('dataset/wav/augmented/pm_2sl/fearful/pm_2sl_'+i ,y_changed, sr)\n",
    "for i in happy:\n",
    "    y, sr = librosa.load('dataset/wav/original/happy/'+i, duration=2.97)\n",
    "    y_changed = librosa.effects.pitch_shift(y, sr, n_steps=n_steps)\n",
    "    librosa.output.write_wav('dataset/wav/augmented/pm_2sl/happy/pm_2sl_'+i ,y_changed, sr)\n",
    "for i in neutral:\n",
    "    y, sr = librosa.load('dataset/wav/original/neutral/'+i, duration=2.97)\n",
    "    y_changed = librosa.effects.pitch_shift(y, sr, n_steps=n_steps)\n",
    "    librosa.output.write_wav('dataset/wav/augmented/pm_2sl/neutral/pm_2sl_'+i ,y_changed, sr)\n",
    "for i in sad:\n",
    "    y, sr = librosa.load('dataset/wav/original/sad/'+i, duration=2.97)\n",
    "    y_changed = librosa.effects.pitch_shift(y, sr, n_steps=n_steps)\n",
    "    librosa.output.write_wav('dataset/wav/augmented/pm_2sl/sad/pm_2sl_'+i ,y_changed, sr)\n",
    "for i in surprised:\n",
    "    y, sr = librosa.load('dataset/wav/original/surprised/'+i, duration=2.97)\n",
    "    y_changed = librosa.effects.pitch_shift(y, sr, n_steps=n_steps)\n",
    "    librosa.output.write_wav('dataset/wav/augmented/pm_2sl/surprised/pm_2sl_'+i ,y_changed, sr)\n"
   ]
  },
  {
   "cell_type": "code",
   "execution_count": 0,
   "metadata": {
    "colab": {
     "autoexec": {
      "startup": false,
      "wait_interval": 0
     }
    },
    "colab_type": "code",
    "collapsed": true,
    "id": "s0p5M4ZCmbOl"
   },
   "outputs": [],
   "source": [
    "n_steps = -2.5\n",
    "for i in angry:\n",
    "    y, sr = librosa.load('dataset/wav/original/angry/'+i, duration=2.97)\n",
    "    y_changed = librosa.effects.pitch_shift(y, sr, n_steps=n_steps)\n",
    "    librosa.output.write_wav('dataset/wav/augmented/pm_2.5sl/angry/pm_2.5sl_'+i ,y_changed, sr)\n",
    "for i in calm:\n",
    "    y, sr = librosa.load('dataset/wav/original/calm/'+i, duration=2.97)\n",
    "    y_changed = librosa.effects.pitch_shift(y, sr, n_steps=n_steps)\n",
    "    librosa.output.write_wav('dataset/wav/augmented/pm_2.5sl/calm/pm_2.5sl_'+i ,y_changed, sr)\n",
    "for i in disgust:\n",
    "    y, sr = librosa.load('dataset/wav/original/disgust/'+i, duration=2.97)\n",
    "    y_changed = librosa.effects.pitch_shift(y, sr, n_steps=n_steps)\n",
    "    librosa.output.write_wav('dataset/wav/augmented/pm_2.5sl/disgust/pm_2.5sl_'+i ,y_changed, sr)\n",
    "for i in fearful:\n",
    "    y, sr = librosa.load('dataset/wav/original/fearful/'+i, duration=2.97)\n",
    "    y_changed = librosa.effects.pitch_shift(y, sr, n_steps=n_steps)\n",
    "    librosa.output.write_wav('dataset/wav/augmented/pm_2.5sl/fearful/pm_2.5sl_'+i ,y_changed, sr)\n",
    "for i in happy:\n",
    "    y, sr = librosa.load('dataset/wav/original/happy/'+i, duration=2.97)\n",
    "    y_changed = librosa.effects.pitch_shift(y, sr, n_steps=n_steps)\n",
    "    librosa.output.write_wav('dataset/wav/augmented/pm_2.5sl/happy/pm_2.5sl_'+i ,y_changed, sr)\n",
    "for i in neutral:\n",
    "    y, sr = librosa.load('dataset/wav/original/neutral/'+i, duration=2.97)\n",
    "    y_changed = librosa.effects.pitch_shift(y, sr, n_steps=n_steps)\n",
    "    librosa.output.write_wav('dataset/wav/augmented/pm_2.5sl/neutral/pm_2.5sl_'+i ,y_changed, sr)\n",
    "for i in sad:\n",
    "    y, sr = librosa.load('dataset/wav/original/sad/'+i, duration=2.97)\n",
    "    y_changed = librosa.effects.pitch_shift(y, sr, n_steps=n_steps)\n",
    "    librosa.output.write_wav('dataset/wav/augmented/pm_2.5sl/sad/pm_2.5sl_'+i ,y_changed, sr)\n",
    "for i in surprised:\n",
    "    y, sr = librosa.load('dataset/wav/original/surprised/'+i, duration=2.97)\n",
    "    y_changed = librosa.effects.pitch_shift(y, sr, n_steps=n_steps)\n",
    "    librosa.output.write_wav('dataset/wav/augmented/pm_2.5sl/surprised/pm_2.5sl_'+i ,y_changed, sr)\n"
   ]
  },
  {
   "cell_type": "code",
   "execution_count": 0,
   "metadata": {
    "colab": {
     "autoexec": {
      "startup": false,
      "wait_interval": 0
     }
    },
    "colab_type": "code",
    "collapsed": true,
    "id": "6eLp-lhNmbOp"
   },
   "outputs": [],
   "source": [
    "n_steps = -3.5\n",
    "for i in angry:\n",
    "    y, sr = librosa.load('dataset/wav/original/angry/'+i, duration=2.97)\n",
    "    y_changed = librosa.effects.pitch_shift(y, sr, n_steps=n_steps)\n",
    "    librosa.output.write_wav('dataset/wav/augmented/pm_3.5sl/angry/pm_3.5sl_'+i ,y_changed, sr)\n",
    "for i in calm:\n",
    "    y, sr = librosa.load('dataset/wav/original/calm/'+i, duration=2.97)\n",
    "    y_changed = librosa.effects.pitch_shift(y, sr, n_steps=n_steps)\n",
    "    librosa.output.write_wav('dataset/wav/augmented/pm_3.5sl/calm/pm_3.5sl_'+i ,y_changed, sr)\n",
    "for i in disgust:\n",
    "    y, sr = librosa.load('dataset/wav/original/disgust/'+i, duration=2.97)\n",
    "    y_changed = librosa.effects.pitch_shift(y, sr, n_steps=n_steps)\n",
    "    librosa.output.write_wav('dataset/wav/augmented/pm_3.5sl/disgust/pm_3.5sl_'+i ,y_changed, sr)\n",
    "for i in fearful:\n",
    "    y, sr = librosa.load('dataset/wav/original/fearful/'+i, duration=2.97)\n",
    "    y_changed = librosa.effects.pitch_shift(y, sr, n_steps=n_steps)\n",
    "    librosa.output.write_wav('dataset/wav/augmented/pm_3.5sl/fearful/pm_3.5sl_'+i ,y_changed, sr)\n",
    "for i in happy:\n",
    "    y, sr = librosa.load('dataset/wav/original/happy/'+i, duration=2.97)\n",
    "    y_changed = librosa.effects.pitch_shift(y, sr, n_steps=n_steps)\n",
    "    librosa.output.write_wav('dataset/wav/augmented/pm_3.5sl/happy/pm_3.5sl_'+i ,y_changed, sr)\n",
    "for i in neutral:\n",
    "    y, sr = librosa.load('dataset/wav/original/neutral/'+i, duration=2.97)\n",
    "    y_changed = librosa.effects.pitch_shift(y, sr, n_steps=n_steps)\n",
    "    librosa.output.write_wav('dataset/wav/augmented/pm_3.5sl/neutral/pm_3.5sl_'+i ,y_changed, sr)\n",
    "for i in sad:\n",
    "    y, sr = librosa.load('dataset/wav/original/sad/'+i, duration=2.97)\n",
    "    y_changed = librosa.effects.pitch_shift(y, sr, n_steps=n_steps)\n",
    "    librosa.output.write_wav('dataset/wav/augmented/pm_3.5sl/sad/pm_3.5sl_'+i ,y_changed, sr)\n",
    "for i in surprised:\n",
    "    y, sr = librosa.load('dataset/wav/original/surprised/'+i, duration=2.97)\n",
    "    y_changed = librosa.effects.pitch_shift(y, sr, n_steps=n_steps)\n",
    "    librosa.output.write_wav('dataset/wav/augmented/pm_3.5sl/surprised/pm_3.5sl_'+i ,y_changed, sr)\n"
   ]
  },
  {
   "cell_type": "code",
   "execution_count": 0,
   "metadata": {
    "colab": {
     "autoexec": {
      "startup": false,
      "wait_interval": 0
     }
    },
    "colab_type": "code",
    "collapsed": true,
    "id": "Mn4K9LW8mbOs"
   },
   "outputs": [],
   "source": [
    "n_steps = 1\n",
    "for i in angry:\n",
    "    y, sr = librosa.load('dataset/wav/original/angry/'+i, duration=2.97)\n",
    "    y_changed = librosa.effects.pitch_shift(y, sr, n_steps=n_steps)\n",
    "    librosa.output.write_wav('dataset/wav/augmented/pm_1sh/angry/pm_1sh_'+i ,y_changed, sr)\n",
    "for i in calm:\n",
    "    y, sr = librosa.load('dataset/wav/original/calm/'+i, duration=2.97)\n",
    "    y_changed = librosa.effects.pitch_shift(y, sr, n_steps=n_steps)\n",
    "    librosa.output.write_wav('dataset/wav/augmented/pm_1sh/calm/pm_1sh_'+i ,y_changed, sr)\n",
    "for i in disgust:\n",
    "    y, sr = librosa.load('dataset/wav/original/disgust/'+i, duration=2.97)\n",
    "    y_changed = librosa.effects.pitch_shift(y, sr, n_steps=n_steps)\n",
    "    librosa.output.write_wav('dataset/wav/augmented/pm_1sh/disgust/pm_1sh_'+i ,y_changed, sr)\n",
    "for i in fearful:\n",
    "    y, sr = librosa.load('dataset/wav/original/fearful/'+i, duration=2.97)\n",
    "    y_changed = librosa.effects.pitch_shift(y, sr, n_steps=n_steps)\n",
    "    librosa.output.write_wav('dataset/wav/augmented/pm_1sh/fearful/pm_1sh_'+i ,y_changed, sr)\n",
    "for i in happy:\n",
    "    y, sr = librosa.load('dataset/wav/original/happy/'+i, duration=2.97)\n",
    "    y_changed = librosa.effects.pitch_shift(y, sr, n_steps=n_steps)\n",
    "    librosa.output.write_wav('dataset/wav/augmented/pm_1sh/happy/pm_1sh_'+i ,y_changed, sr)\n",
    "for i in neutral:\n",
    "    y, sr = librosa.load('dataset/wav/original/neutral/'+i, duration=2.97)\n",
    "    y_changed = librosa.effects.pitch_shift(y, sr, n_steps=n_steps)\n",
    "    librosa.output.write_wav('dataset/wav/augmented/pm_1sh/neutral/pm_1sh_'+i ,y_changed, sr)\n",
    "for i in sad:\n",
    "    y, sr = librosa.load('dataset/wav/original/sad/'+i, duration=2.97)\n",
    "    y_changed = librosa.effects.pitch_shift(y, sr, n_steps=n_steps)\n",
    "    librosa.output.write_wav('dataset/wav/augmented/pm_1sh/sad/pm_1sh_'+i ,y_changed, sr)\n",
    "for i in surprised:\n",
    "    y, sr = librosa.load('dataset/wav/original/surprised/'+i, duration=2.97)\n",
    "    y_changed = librosa.effects.pitch_shift(y, sr, n_steps=n_steps)\n",
    "    librosa.output.write_wav('dataset/wav/augmented/pm_1sh/surprised/pm_1sh_'+i ,y_changed, sr)\n"
   ]
  },
  {
   "cell_type": "code",
   "execution_count": 0,
   "metadata": {
    "colab": {
     "autoexec": {
      "startup": false,
      "wait_interval": 0
     }
    },
    "colab_type": "code",
    "collapsed": true,
    "id": "Jv7pPKBKmbOw"
   },
   "outputs": [],
   "source": [
    "n_steps = 2\n",
    "for i in angry:\n",
    "    y, sr = librosa.load('dataset/wav/original/angry/'+i, duration=2.97)\n",
    "    y_changed = librosa.effects.pitch_shift(y, sr, n_steps=n_steps)\n",
    "    librosa.output.write_wav('dataset/wav/augmented/pm_2sh/angry/pm_2sh_'+i ,y_changed, sr)\n",
    "for i in calm:\n",
    "    y, sr = librosa.load('dataset/wav/original/calm/'+i, duration=2.97)\n",
    "    y_changed = librosa.effects.pitch_shift(y, sr, n_steps=n_steps)\n",
    "    librosa.output.write_wav('dataset/wav/augmented/pm_2sh/calm/pm_2sh_'+i ,y_changed, sr)\n",
    "for i in disgust:\n",
    "    y, sr = librosa.load('dataset/wav/original/disgust/'+i, duration=2.97)\n",
    "    y_changed = librosa.effects.pitch_shift(y, sr, n_steps=n_steps)\n",
    "    librosa.output.write_wav('dataset/wav/augmented/pm_2sh/disgust/pm_2sh_'+i ,y_changed, sr)\n",
    "for i in fearful:\n",
    "    y, sr = librosa.load('dataset/wav/original/fearful/'+i, duration=2.97)\n",
    "    y_changed = librosa.effects.pitch_shift(y, sr, n_steps=n_steps)\n",
    "    librosa.output.write_wav('dataset/wav/augmented/pm_2sh/fearful/pm_2sh_'+i ,y_changed, sr)\n",
    "for i in happy:\n",
    "    y, sr = librosa.load('dataset/wav/original/happy/'+i, duration=2.97)\n",
    "    y_changed = librosa.effects.pitch_shift(y, sr, n_steps=n_steps)\n",
    "    librosa.output.write_wav('dataset/wav/augmented/pm_2sh/happy/pm_2sh_'+i ,y_changed, sr)\n",
    "for i in neutral:\n",
    "    y, sr = librosa.load('dataset/wav/original/neutral/'+i, duration=2.97)\n",
    "    y_changed = librosa.effects.pitch_shift(y, sr, n_steps=n_steps)\n",
    "    librosa.output.write_wav('dataset/wav/augmented/pm_2sh/neutral/pm_2sh_'+i ,y_changed, sr)\n",
    "for i in sad:\n",
    "    y, sr = librosa.load('dataset/wav/original/sad/'+i, duration=2.97)\n",
    "    y_changed = librosa.effects.pitch_shift(y, sr, n_steps=n_steps)\n",
    "    librosa.output.write_wav('dataset/wav/augmented/pm_2sh/sad/pm_2sh_'+i ,y_changed, sr)\n",
    "for i in surprised:\n",
    "    y, sr = librosa.load('dataset/wav/original/surprised/'+i, duration=2.97)\n",
    "    y_changed = librosa.effects.pitch_shift(y, sr, n_steps=n_steps)\n",
    "    librosa.output.write_wav('dataset/wav/augmented/pm_2sh/surprised/pm_2sh_'+i ,y_changed, sr)\n"
   ]
  },
  {
   "cell_type": "code",
   "execution_count": 0,
   "metadata": {
    "colab": {
     "autoexec": {
      "startup": false,
      "wait_interval": 0
     }
    },
    "colab_type": "code",
    "collapsed": true,
    "id": "RUGZON8WmbO0"
   },
   "outputs": [],
   "source": [
    "n_steps = 2.5\n",
    "for i in angry:\n",
    "    y, sr = librosa.load('dataset/wav/original/angry/'+i, duration=2.97)\n",
    "    y_changed = librosa.effects.pitch_shift(y, sr, n_steps=n_steps)\n",
    "    librosa.output.write_wav('dataset/wav/augmented/pm_2.5sh/angry/pm_2.5sh_'+i ,y_changed, sr)\n",
    "for i in calm:\n",
    "    y, sr = librosa.load('dataset/wav/original/calm/'+i, duration=2.97)\n",
    "    y_changed = librosa.effects.pitch_shift(y, sr, n_steps=n_steps)\n",
    "    librosa.output.write_wav('dataset/wav/augmented/pm_2.5sh/calm/pm_2.5sh_'+i ,y_changed, sr)\n",
    "for i in disgust:\n",
    "    y, sr = librosa.load('dataset/wav/original/disgust/'+i, duration=2.97)\n",
    "    y_changed = librosa.effects.pitch_shift(y, sr, n_steps=n_steps)\n",
    "    librosa.output.write_wav('dataset/wav/augmented/pm_2.5sh/disgust/pm_2.5sh_'+i ,y_changed, sr)\n",
    "for i in fearful:\n",
    "    y, sr = librosa.load('dataset/wav/original/fearful/'+i, duration=2.97)\n",
    "    y_changed = librosa.effects.pitch_shift(y, sr, n_steps=n_steps)\n",
    "    librosa.output.write_wav('dataset/wav/augmented/pm_2.5sh/fearful/pm_2.5sh_'+i ,y_changed, sr)\n",
    "for i in happy:\n",
    "    y, sr = librosa.load('dataset/wav/original/happy/'+i, duration=2.97)\n",
    "    y_changed = librosa.effects.pitch_shift(y, sr, n_steps=n_steps)\n",
    "    librosa.output.write_wav('dataset/wav/augmented/pm_2.5sh/happy/pm_2.5sh_'+i ,y_changed, sr)\n",
    "for i in neutral:\n",
    "    y, sr = librosa.load('dataset/wav/original/neutral/'+i, duration=2.97)\n",
    "    y_changed = librosa.effects.pitch_shift(y, sr, n_steps=n_steps)\n",
    "    librosa.output.write_wav('dataset/wav/augmented/pm_2.5sh/neutral/pm_2.5sh_'+i ,y_changed, sr)\n",
    "for i in sad:\n",
    "    y, sr = librosa.load('dataset/wav/original/sad/'+i, duration=2.97)\n",
    "    y_changed = librosa.effects.pitch_shift(y, sr, n_steps=n_steps)\n",
    "    librosa.output.write_wav('dataset/wav/augmented/pm_2.5sh/sad/pm_2.5sh_'+i ,y_changed, sr)\n",
    "for i in surprised:\n",
    "    y, sr = librosa.load('dataset/wav/original/surprised/'+i, duration=2.97)\n",
    "    y_changed = librosa.effects.pitch_shift(y, sr, n_steps=n_steps)\n",
    "    librosa.output.write_wav('dataset/wav/augmented/pm_2.5sh/surprised/pm_2.5sh_'+i ,y_changed, sr)\n"
   ]
  },
  {
   "cell_type": "code",
   "execution_count": 0,
   "metadata": {
    "colab": {
     "autoexec": {
      "startup": false,
      "wait_interval": 0
     }
    },
    "colab_type": "code",
    "collapsed": true,
    "id": "SI3i9YhxmbO5"
   },
   "outputs": [],
   "source": [
    "n_steps = 3.5\n",
    "for i in angry:\n",
    "    y, sr = librosa.load('dataset/wav/original/angry/'+i, duration=2.97)\n",
    "    y_changed = librosa.effects.pitch_shift(y, sr, n_steps=n_steps)\n",
    "    librosa.output.write_wav('dataset/wav/augmented/pm_3.5sh/angry/pm_3.5sh_'+i ,y_changed, sr)\n",
    "for i in calm:\n",
    "    y, sr = librosa.load('dataset/wav/original/calm/'+i, duration=2.97)\n",
    "    y_changed = librosa.effects.pitch_shift(y, sr, n_steps=n_steps)\n",
    "    librosa.output.write_wav('dataset/wav/augmented/pm_3.5sh/calm/pm_3.5sh_'+i ,y_changed, sr)\n",
    "for i in disgust:\n",
    "    y, sr = librosa.load('dataset/wav/original/disgust/'+i, duration=2.97)\n",
    "    y_changed = librosa.effects.pitch_shift(y, sr, n_steps=n_steps)\n",
    "    librosa.output.write_wav('dataset/wav/augmented/pm_3.5sh/disgust/pm_3.5sh_'+i ,y_changed, sr)\n",
    "for i in fearful:\n",
    "    y, sr = librosa.load('dataset/wav/original/fearful/'+i, duration=2.97)\n",
    "    y_changed = librosa.effects.pitch_shift(y, sr, n_steps=n_steps)\n",
    "    librosa.output.write_wav('dataset/wav/augmented/pm_3.5sh/fearful/pm_3.5sh_'+i ,y_changed, sr)\n",
    "for i in happy:\n",
    "    y, sr = librosa.load('dataset/wav/original/happy/'+i, duration=2.97)\n",
    "    y_changed = librosa.effects.pitch_shift(y, sr, n_steps=n_steps)\n",
    "    librosa.output.write_wav('dataset/wav/augmented/pm_3.5sh/happy/pm_3.5sh_'+i ,y_changed, sr)\n",
    "for i in neutral:\n",
    "    y, sr = librosa.load('dataset/wav/original/neutral/'+i, duration=2.97)\n",
    "    y_changed = librosa.effects.pitch_shift(y, sr, n_steps=n_steps)\n",
    "    librosa.output.write_wav('dataset/wav/augmented/pm_3.5sh/neutral/pm_3.5sh_'+i ,y_changed, sr)\n",
    "for i in sad:\n",
    "    y, sr = librosa.load('dataset/wav/original/sad/'+i, duration=2.97)\n",
    "    y_changed = librosa.effects.pitch_shift(y, sr, n_steps=n_steps)\n",
    "    librosa.output.write_wav('dataset/wav/augmented/pm_3.5sh/sad/pm_3.5sh_'+i ,y_changed, sr)\n",
    "for i in surprised:\n",
    "    y, sr = librosa.load('dataset/wav/original/surprised/'+i, duration=2.97)\n",
    "    y_changed = librosa.effects.pitch_shift(y, sr, n_steps=n_steps)\n",
    "    librosa.output.write_wav('dataset/wav/augmented/pm_3.5sh/surprised/pm_3.5sh_'+i ,y_changed, sr)\n"
   ]
  },
  {
   "cell_type": "code",
   "execution_count": 0,
   "metadata": {
    "colab": {
     "autoexec": {
      "startup": false,
      "wait_interval": 0
     }
    },
    "colab_type": "code",
    "collapsed": true,
    "id": "GWxxqCtembPA"
   },
   "outputs": [],
   "source": [
    "for i in angry:\n",
    "    y, sr = librosa.load('dataset/wav/original/angry/'+i, duration=2.97)\n",
    "    y_changed = librosa.effects.time_stretch(y, rate=0.81)\n",
    "    librosa.output.write_wav('dataset/wav/augmented/speed_81/angry/speed_81_'+i ,y_changed, sr)\n",
    "for i in calm:\n",
    "    y, sr = librosa.load('dataset/wav/original/calm/'+i, duration=2.97)\n",
    "    y_changed = librosa.effects.time_stretch(y, rate=0.81)\n",
    "    librosa.output.write_wav('dataset/wav/augmented/speed_81/calm/speed_81_'+i ,y_changed, sr)\n",
    "for i in disgust:\n",
    "    y, sr = librosa.load('dataset/wav/original/disgust/'+i, duration=2.97)\n",
    "    y_changed = librosa.effects.time_stretch(y, rate=0.81)\n",
    "    librosa.output.write_wav('dataset/wav/augmented/speed_81/disgust/speed_81_'+i ,y_changed, sr)\n",
    "for i in fearful:\n",
    "    y, sr = librosa.load('dataset/wav/original/fearful/'+i, duration=2.97)\n",
    "    y_changed = librosa.effects.time_stretch(y, rate=0.81)\n",
    "    librosa.output.write_wav('dataset/wav/augmented/speed_81/fearful/speed_81_'+i ,y_changed, sr)\n",
    "for i in happy:\n",
    "    y, sr = librosa.load('dataset/wav/original/happy/'+i, duration=2.97)\n",
    "    y_changed = librosa.effects.time_stretch(y, rate=0.81)\n",
    "    librosa.output.write_wav('dataset/wav/augmented/speed_81/happy/speed_81_'+i ,y_changed, sr)\n",
    "for i in neutral:\n",
    "    y, sr = librosa.load('dataset/wav/original/neutral/'+i, duration=2.97)\n",
    "    y_changed = librosa.effects.time_stretch(y, rate=0.81)\n",
    "    librosa.output.write_wav('dataset/wav/augmented/speed_81/neutral/speed_81_'+i ,y_changed, sr)\n",
    "for i in sad:\n",
    "    y, sr = librosa.load('dataset/wav/original/sad/'+i, duration=2.97)\n",
    "    y_changed = librosa.effects.time_stretch(y, rate=0.81)\n",
    "    librosa.output.write_wav('dataset/wav/augmented/speed_81/sad/speed_81_'+i ,y_changed, sr)\n",
    "for i in surprised:\n",
    "    y, sr = librosa.load('dataset/wav/original/surprised/'+i, duration=2.97)\n",
    "    y_changed = librosa.effects.time_stretch(y, rate=0.81)\n",
    "    librosa.output.write_wav('dataset/wav/augmented/speed_81/surprised/speed_81_'+i ,y_changed, sr)\n"
   ]
  },
  {
   "cell_type": "code",
   "execution_count": 0,
   "metadata": {
    "colab": {
     "autoexec": {
      "startup": false,
      "wait_interval": 0
     }
    },
    "colab_type": "code",
    "collapsed": true,
    "id": "I2Bavu2mmbPF"
   },
   "outputs": [],
   "source": [
    "for i in angry:\n",
    "    y, sr = librosa.load('dataset/wav/original/angry/'+i, duration=2.97)\n",
    "    y_changed = librosa.effects.time_stretch(y, rate=1.07)\n",
    "    librosa.output.write_wav('dataset/wav/augmented/speed_107/angry/speed_107_'+i ,y_changed, sr)\n",
    "for i in calm:\n",
    "    y, sr = librosa.load('dataset/wav/original/calm/'+i, duration=2.97)\n",
    "    y_changed = librosa.effects.time_stretch(y, rate=1.07)\n",
    "    librosa.output.write_wav('dataset/wav/augmented/speed_107/calm/speed_107_'+i ,y_changed, sr)\n",
    "for i in disgust:\n",
    "    y, sr = librosa.load('dataset/wav/original/disgust/'+i, duration=2.97)\n",
    "    y_changed = librosa.effects.time_stretch(y, rate=1.07)\n",
    "    librosa.output.write_wav('dataset/wav/augmented/speed_107/disgust/speed_107_'+i ,y_changed, sr)\n",
    "for i in fearful:\n",
    "    y, sr = librosa.load('dataset/wav/original/fearful/'+i, duration=2.97)\n",
    "    y_changed = librosa.effects.time_stretch(y, rate=1.07)\n",
    "    librosa.output.write_wav('dataset/wav/augmented/speed_107/fearful/speed_107_'+i ,y_changed, sr)\n",
    "for i in happy:\n",
    "    y, sr = librosa.load('dataset/wav/original/happy/'+i, duration=2.97)\n",
    "    y_changed = librosa.effects.time_stretch(y, rate=1.07)\n",
    "    librosa.output.write_wav('dataset/wav/augmented/speed_107/happy/speed_107_'+i ,y_changed, sr)\n",
    "for i in neutral:\n",
    "    y, sr = librosa.load('dataset/wav/original/neutral/'+i, duration=2.97)\n",
    "    y_changed = librosa.effects.time_stretch(y, rate=1.07)\n",
    "    librosa.output.write_wav('dataset/wav/augmented/speed_107/neutral/speed_107_'+i ,y_changed, sr)\n",
    "for i in sad:\n",
    "    y, sr = librosa.load('dataset/wav/original/sad/'+i, duration=2.97)\n",
    "    y_changed = librosa.effects.time_stretch(y, rate=1.07)\n",
    "    librosa.output.write_wav('dataset/wav/augmented/speed_107/sad/speed_107_'+i ,y_changed, sr)\n",
    "for i in surprised:\n",
    "    y, sr = librosa.load('dataset/wav/original/surprised/'+i, duration=2.97)\n",
    "    y_changed = librosa.effects.time_stretch(y, rate=1.07)\n",
    "    librosa.output.write_wav('dataset/wav/augmented/speed_107/surprised/speed_107_'+i ,y_changed, sr)"
   ]
  }
 ],
 "metadata": {
  "colab": {
   "default_view": {},
   "name": "augmentation.ipynb",
   "provenance": [],
   "version": "0.3.2",
   "views": {}
  },
  "kernelspec": {
   "display_name": "Python 3",
   "language": "python",
   "name": "python3"
  },
  "language_info": {
   "codemirror_mode": {
    "name": "ipython",
    "version": 3
   },
   "file_extension": ".py",
   "mimetype": "text/x-python",
   "name": "python",
   "nbconvert_exporter": "python",
   "pygments_lexer": "ipython3",
   "version": "3.6.5"
  }
 },
 "nbformat": 4,
 "nbformat_minor": 1
}
